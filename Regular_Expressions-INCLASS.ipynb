{
 "cells": [
  {
   "cell_type": "markdown",
   "metadata": {},
   "source": [
    "# Regular Expressions"
   ]
  },
  {
   "cell_type": "markdown",
   "metadata": {},
   "source": [
    "# Tasks today:\n",
    "1) <b>Importing</b> <br>\n",
    "2) <b>Using Regular Expressions</b> <br>\n",
    " &nbsp;&nbsp;&nbsp;&nbsp; a) re.compile() <br>\n",
    " &nbsp;&nbsp;&nbsp;&nbsp; b) re.match() <br>\n",
    " &nbsp;&nbsp;&nbsp;&nbsp; c) re.findall() <br>\n",
    " &nbsp;&nbsp;&nbsp;&nbsp; d) re.search() <br>\n",
    "3) <b>Sets</b> <br>\n",
    " &nbsp;&nbsp;&nbsp;&nbsp; a) Integer Ranges <br>\n",
    " &nbsp;&nbsp;&nbsp;&nbsp; b) Character Ranges <br>\n",
    "4) <b>Counting Occurences</b> <br>\n",
    " &nbsp;&nbsp;&nbsp;&nbsp; a) {x} <br>\n",
    " &nbsp;&nbsp;&nbsp;&nbsp; b) {, x} <br>\n",
    " &nbsp;&nbsp;&nbsp;&nbsp; c) {?} <br>\n",
    " &nbsp;&nbsp;&nbsp;&nbsp; d) {*} <br>\n",
    " &nbsp;&nbsp;&nbsp;&nbsp; e) {+} <br>\n",
    "5) <b>In-Class Exercise #1</b> <br>\n",
    "6) <b>Escaping Characters</b> <br>\n",
    "7) <b>Grouping</b> <br>\n",
    "8) <b>In-Class Exercise #2</b> <br>\n",
    "9) <b>Opening a File</b> <br>\n",
    " &nbsp;&nbsp;&nbsp;&nbsp; a) open() <br>\n",
    " &nbsp;&nbsp;&nbsp;&nbsp; b) with open() <br>\n",
    " &nbsp;&nbsp;&nbsp;&nbsp; c) re.match() <br>\n",
    " &nbsp;&nbsp;&nbsp;&nbsp; d) re.search() <br>\n",
    " &nbsp;&nbsp;&nbsp;&nbsp; e) Store the String in a Variable <br>\n",
    "10) <b>Regex Project</b> <br>"
   ]
  },
  {
   "cell_type": "markdown",
   "metadata": {},
   "source": [
    "### Importing <br>\n",
    "<p>Regular Expressions are universal throughout most programming languages... They are generally imported through the module 're'.</p>"
   ]
  },
  {
   "cell_type": "code",
   "execution_count": 5,
   "metadata": {},
   "outputs": [],
   "source": [
    "# import re\n",
    "import re"
   ]
  },
  {
   "cell_type": "markdown",
   "metadata": {},
   "source": [
    "### Using Regular Expressions <br>\n",
    "<p>Regular expressions give us the ability to search for patterns within text, strings, files, etc. They serve several uses, such as; security measures, searching, filtering, pattern recognition, and more...</p>"
   ]
  },
  {
   "cell_type": "markdown",
   "metadata": {},
   "source": [
    "##### re.compile()"
   ]
  },
  {
   "cell_type": "code",
   "execution_count": 6,
   "metadata": {},
   "outputs": [
    {
     "name": "stdout",
     "output_type": "stream",
     "text": [
      "re.compile('abcd')\n",
      "<class 're.Pattern'>\n"
     ]
    }
   ],
   "source": [
    "# using compile, pre determines the string to be used in regular expression methods\n",
    "\n",
    "pat = re.compile('abcd')\n",
    "print(pat)\n",
    "print(type(pat))"
   ]
  },
  {
   "cell_type": "markdown",
   "metadata": {},
   "source": [
    "##### re.match()"
   ]
  },
  {
   "cell_type": "code",
   "execution_count": 13,
   "metadata": {},
   "outputs": [
    {
     "name": "stdout",
     "output_type": "stream",
     "text": [
      "<re.Match object; span=(0, 4), match='abcd'>\n",
      "(0, 4)\n",
      "abcd\n",
      "abcd\n"
     ]
    }
   ],
   "source": [
    "sentence = 'abcdefghijklmnop1234567890'\n",
    "\n",
    "my_match = pat.match(sentence)\n",
    "print(my_match)\n",
    "# Accessing the span of the match\n",
    "print(my_match.span())\n",
    "start,end = my_match.span()\n",
    "\n",
    "print(sentence[my_match.span()[0]:my_match.span()[1]])\n",
    "print(sentence[start: end])"
   ]
  },
  {
   "cell_type": "markdown",
   "metadata": {},
   "source": [
    "\n",
    "##### re.findall()"
   ]
  },
  {
   "cell_type": "code",
   "execution_count": 8,
   "metadata": {},
   "outputs": [
    {
     "name": "stdout",
     "output_type": "stream",
     "text": [
      "['abcd', 'abcd', 'abcd']\n"
     ]
    }
   ],
   "source": [
    "found = pat.findall('123abcd abcd123 abc abcaba abcd 123')\n",
    "print(found)"
   ]
  },
  {
   "cell_type": "markdown",
   "metadata": {},
   "source": [
    "##### re.search()"
   ]
  },
  {
   "cell_type": "code",
   "execution_count": 14,
   "metadata": {},
   "outputs": [
    {
     "name": "stdout",
     "output_type": "stream",
     "text": [
      "<re.Match object; span=(1, 5), match='abcd'>\n",
      "(1, 5)\n",
      "abcd\n",
      "abcd\n"
     ]
    }
   ],
   "source": [
    "sentence = 'zabcdefghijklabcdmnop1234567890'\n",
    "\n",
    "my_match = pat.search(sentence)\n",
    "print(my_match)\n",
    "# Accessing the span of the match\n",
    "print(my_match.span())\n",
    "start,end = my_match.span()\n",
    "\n",
    "print(sentence[my_match.span()[0]:my_match.span()[1]])\n",
    "print(sentence[start: end])"
   ]
  },
  {
   "cell_type": "markdown",
   "metadata": {},
   "source": [
    "### Sets <br>\n",
    "<p>The following cells will allow you to use regular expressions to search for certain values within a range such as numbers 1 through 4.</p>"
   ]
  },
  {
   "cell_type": "markdown",
   "metadata": {},
   "source": [
    "##### [a-z] or [A-Z] - any lowercase/uppercase letters from a to z<br/>[^2] - anything that's not 2"
   ]
  },
  {
   "cell_type": "markdown",
   "metadata": {},
   "source": [
    "##### Integer Ranges"
   ]
  },
  {
   "cell_type": "code",
   "execution_count": 10,
   "metadata": {},
   "outputs": [
    {
     "name": "stdout",
     "output_type": "stream",
     "text": [
      "<re.Match object; span=(14, 19), match='02117'>\n",
      "['137']\n"
     ]
    }
   ],
   "source": [
    "pat_int = re.compile('0211[2-8]')\n",
    "\n",
    "match = pat_int.search('23157324324321021175673127')\n",
    "print(match)\n",
    "\n",
    "pat_int = re.compile('[1-3][1-7][1-9]')\n",
    "\n",
    "match = pat_int.findall('1379')\n",
    "print(match)"
   ]
  },
  {
   "cell_type": "markdown",
   "metadata": {},
   "source": [
    "##### Character Ranges"
   ]
  },
  {
   "cell_type": "code",
   "execution_count": 27,
   "metadata": {},
   "outputs": [
    {
     "name": "stdout",
     "output_type": "stream",
     "text": [
      "['He', 'Th', 'Mr', 'An']\n"
     ]
    }
   ],
   "source": [
    "pat = re.compile('[A-Z][a-z]')\n",
    "found = pat.findall('Hello There Mr. Anderson')\n",
    "print(found)"
   ]
  },
  {
   "cell_type": "markdown",
   "metadata": {},
   "source": [
    "### Counting Occurences"
   ]
  },
  {
   "cell_type": "markdown",
   "metadata": {},
   "source": [
    "##### {x} - something that occurs {num_of_times}"
   ]
  },
  {
   "cell_type": "code",
   "execution_count": 29,
   "metadata": {},
   "outputs": [
    {
     "name": "stdout",
     "output_type": "stream",
     "text": [
      "['Hell', 'Ther', 'Ande']\n"
     ]
    }
   ],
   "source": [
    "pat = re.compile('[A-Z][a-z]{3}')\n",
    "found = pat.findall('Hello There Mr. Anderson')\n",
    "print(found)"
   ]
  },
  {
   "cell_type": "markdown",
   "metadata": {},
   "source": [
    "##### {x, x} - something that occurs between x and x times"
   ]
  },
  {
   "cell_type": "code",
   "execution_count": 31,
   "metadata": {},
   "outputs": [
    {
     "name": "stdout",
     "output_type": "stream",
     "text": [
      "['Hell', 'Ther', 'Mr', 'Ande']\n"
     ]
    }
   ],
   "source": [
    "pat = re.compile('[A-Z][a-z]{1,3}')\n",
    "found = pat.findall('Hello There Mr. Anderson')\n",
    "print(found)"
   ]
  },
  {
   "cell_type": "markdown",
   "metadata": {},
   "source": [
    "##### ? - something that occurs 0 or 1 time"
   ]
  },
  {
   "cell_type": "code",
   "execution_count": 38,
   "metadata": {},
   "outputs": [
    {
     "name": "stdout",
     "output_type": "stream",
     "text": [
      "['rs', 's', 'Ms', 's', 'rs', 'rs']\n"
     ]
    }
   ],
   "source": [
    "pat = re.compile('[A-Z]?r?s')\n",
    "found = pat.findall('Hello There Mr. Anderson, it is Ms. Smith, is Mrrrrs. Anderson Home?')\n",
    "print(found)"
   ]
  },
  {
   "cell_type": "markdown",
   "metadata": {},
   "source": [
    "##### * - something that occurs at least 0 times"
   ]
  },
  {
   "cell_type": "code",
   "execution_count": 34,
   "metadata": {},
   "outputs": [
    {
     "name": "stdout",
     "output_type": "stream",
     "text": [
      "['Ms', 'Mrrrrs']\n"
     ]
    }
   ],
   "source": [
    "pat = re.compile('Mr*s')\n",
    "found = pat.findall('Hello There Mr. Anderson, it is Ms. Smith, is Mrrrrs. Anderson Home?')\n",
    "print(found)"
   ]
  },
  {
   "cell_type": "markdown",
   "metadata": {},
   "source": [
    "##### + - something that occurs at least once"
   ]
  },
  {
   "cell_type": "code",
   "execution_count": 39,
   "metadata": {},
   "outputs": [
    {
     "name": "stdout",
     "output_type": "stream",
     "text": [
      "['Mrrrrs']\n"
     ]
    }
   ],
   "source": [
    "pat = re.compile('Mr+s')\n",
    "found = pat.findall('Hello There Mr. Anderson, it is Ms. Smith, is Mrrrrs. Anderson Home?')\n",
    "print(found)"
   ]
  },
  {
   "cell_type": "markdown",
   "metadata": {},
   "source": [
    "##### In-class exercise 1: \n",
    "\n",
    "Use a regular expression to find every number in the given string"
   ]
  },
  {
   "cell_type": "code",
   "execution_count": 53,
   "metadata": {},
   "outputs": [
    {
     "name": "stdout",
     "output_type": "stream",
     "text": [
      "['10909090', '1', '2']\n"
     ]
    }
   ],
   "source": [
    "my_string = \"This string has 10909090 numbers, but it is only 1 string. I hope you solve this 2day.\"\n",
    "\n",
    "# Output: ['10909090','1',2]\n",
    "\n",
    "pat = re.compile('[0-9]+')\n",
    "found = pat.findall(my_string)\n",
    "print(found)"
   ]
  },
  {
   "cell_type": "markdown",
   "metadata": {},
   "source": [
    "### Escaping Characters"
   ]
  },
  {
   "cell_type": "markdown",
   "metadata": {},
   "source": [
    "##### \\w - look for any Unicode character<br/>\\W - look for anything that isnt a Unicode character\n",
    "\n",
    "[History on Unicode](http://unicode.org/standard/WhatIsUnicode.html)\n",
    "\n",
    "[More on Unicode Characters](https://en.wikipedia.org/wiki/List_of_Unicode_characters)"
   ]
  },
  {
   "cell_type": "code",
   "execution_count": 16,
   "metadata": {},
   "outputs": [
    {
     "name": "stdout",
     "output_type": "stream",
     "text": [
      "['This', 'is', 'a', 'sentance', 'Hello', '1234']\n",
      "[' ', ' ', ' ', '! ', '? ']\n",
      "['This', 'is', 'a', 'sentance!', 'Hello?', '1234']\n"
     ]
    }
   ],
   "source": [
    "pat1 = re.compile('\\w+')\n",
    "pat2 = re.compile('\\W+')\n",
    "pat3 = re.compile('[\\w!?]+')\n",
    "\n",
    "found1 = pat1.findall('This is a sentance! Hello? 1234')\n",
    "found2 = pat2.findall('This is a sentance! Hello? 1234')\n",
    "found3 = pat3.findall('This is a sentance! Hello? 1234')\n",
    "\n",
    "print(found1)\n",
    "print(found2)\n",
    "print(found3)"
   ]
  },
  {
   "cell_type": "markdown",
   "metadata": {},
   "source": [
    "##### \\d - look for any digit 0-9<br/>\\D - look for anything that isnt a digit"
   ]
  },
  {
   "cell_type": "code",
   "execution_count": 65,
   "metadata": {},
   "outputs": [
    {
     "name": "stdout",
     "output_type": "stream",
     "text": [
      "['2nd', '10th', '2022']\n",
      "['Today is the ', 'th day of the ', 'th month. The year is ', '.']\n"
     ]
    }
   ],
   "source": [
    "pat4 = re.compile('\\d+[thrdsn]{0,2}')\n",
    "pat5 = re.compile('\\D+')\n",
    "\n",
    "found4 = pat4.findall('Today is the 2nd day of the 10th month. The year is 2022.')\n",
    "found5 = pat5.findall('Today is the 6th day of the 10th month. The year is 2022.')\n",
    "\n",
    "print(found4)\n",
    "print(found5)"
   ]
  },
  {
   "cell_type": "markdown",
   "metadata": {},
   "source": [
    "##### \\s - look for any white space<br/>\\S - look for anything that isnt whitespace"
   ]
  },
  {
   "cell_type": "code",
   "execution_count": 67,
   "metadata": {},
   "outputs": [
    {
     "name": "stdout",
     "output_type": "stream",
     "text": [
      "[' ', ' ', ' ', ' ', '\\n \\t ', ' ', ' ', ' ', ' ', ' ', ' ', ' ']\n",
      "['Today', 'is', 'the', '6th', 'day', 'of', 'the', '10th', 'month.', 'The', 'year', 'is', '2022.']\n"
     ]
    }
   ],
   "source": [
    "pat6 = re.compile('\\s+')\n",
    "pat7 = re.compile('\\S+')\n",
    "\n",
    "found6 = pat6.findall('Today is the 2nd day\\n \\t of the 10th month. The year is 2022.')\n",
    "found7 = pat7.findall('Today is the 6th day of the 10th month. The year is 2022.')\n",
    "\n",
    "print(found6)\n",
    "print(found7)"
   ]
  },
  {
   "cell_type": "markdown",
   "metadata": {},
   "source": [
    "##### \\b - look for boundaries or edges of a word<br/>\\B - look for anything that isnt a boundary"
   ]
  },
  {
   "cell_type": "code",
   "execution_count": 73,
   "metadata": {},
   "outputs": [
    {
     "name": "stdout",
     "output_type": "stream",
     "text": [
      "['shoha']\n",
      "['shoha']\n",
      "['shoha']\n",
      "\\bshoha\\b\n"
     ]
    }
   ],
   "source": [
    "bound = re.compile(r'\\bshoha\\b')\n",
    "not_bound = re.compile(r'\\Bshoha\\B')\n",
    "side_bound = re.compile(r'\\bshoha\\B')\n",
    "\n",
    "found1 = bound.findall('shoha')\n",
    "found2 = not_bound.findall('   fshohas   ')\n",
    "found3 = side_bound.findall('   shohaa   ')\n",
    "\n",
    "print(found1)\n",
    "print(found2)\n",
    "print(found3)\n",
    "print(r'\\bshoha\\b')"
   ]
  },
  {
   "cell_type": "markdown",
   "metadata": {},
   "source": [
    "### Grouping"
   ]
  },
  {
   "cell_type": "code",
   "execution_count": 83,
   "metadata": {},
   "outputs": [
    {
     "name": "stdout",
     "output_type": "stream",
     "text": [
      "[('Max', 'Smith'), ('Sam', 'Darnold'), ('LeBron', 'James'), ('Michael', 'Jordan'), ('Patrick', 'McCormick')]\n",
      "('Max', 'Smith')\n",
      "Max Smith\n",
      "Max\n",
      "Smith\n",
      "not a valid name\n",
      "('Sam', 'Darnold')\n",
      "Sam Darnold\n",
      "Sam\n",
      "Darnold\n",
      "('LeBron', 'James')\n",
      "LeBron James\n",
      "LeBron\n",
      "James\n",
      "('Michael', 'Jordan')\n",
      "Michael Jordan\n",
      "Michael\n",
      "Jordan\n",
      "('Patrick', 'McCormick')\n",
      "Patrick McCormick\n",
      "Patrick\n",
      "McCormick\n"
     ]
    }
   ],
   "source": [
    "my_str = 'Max Smith, aaron rodgers, Sam Darnold, LeBron James, Michael Jordan, Patrick McCormick'\n",
    "\n",
    "name_pat = re.compile('(?P<fisrt>[A-Z][a-zA-Z]+) (?P<last>[A-Z][a-zA-Z]+)')\n",
    "found = name_pat.findall(my_str)\n",
    "print(found)\n",
    "\n",
    "my_list = my_str.split(', ')\n",
    "for name in my_list:\n",
    "    match = name_pat.match(name)\n",
    "    if match:\n",
    "        print(match.groups())    # show a tuple of matched groups\n",
    "        print(match.group())     # Show entire matched string\n",
    "        print(match.group(1))    # select a specific group numer\n",
    "        print(match.group('last'))    # Show entire matched string\n",
    "    else:\n",
    "        print('not a valid name')"
   ]
  },
  {
   "cell_type": "markdown",
   "metadata": {},
   "source": [
    "##### In-class Exercise 2:\n",
    "\n",
    "Write a function using regular expressions to find the domain name in the given email addresses (and return None for the invalid email addresses)<br><b>HINT: Use '|' for either or</b>"
   ]
  },
  {
   "cell_type": "code",
   "execution_count": 71,
   "metadata": {},
   "outputs": [
    {
     "name": "stdout",
     "output_type": "stream",
     "text": [
      "None\n",
      "pocohontas1776@gmail.com\n",
      "None\n",
      "yourfavoriteband@g6.org\n",
      "None\n"
     ]
    }
   ],
   "source": [
    "my_emails = [\"jordanw@codingtemple.orgcom\", \"pocohontas1776@gmail.com\", \"helloworld@aol..com\",\n",
    "             \"yourfavoriteband@g6.org\", \"@codingtemple.com\"]\n",
    "\n",
    "# You can also use the $ at the end of your compile expression -- this stops the search\n",
    "\n",
    "#.com OR .org => com|org\n",
    "\n",
    "#Expected output:\n",
    "#None\n",
    "#pocohontas1776@gmail.com\n",
    "#None\n",
    "#yourfavoriteband@g6.org\n",
    "#None\n",
    "\n",
    "pat = re.compile('[a-z0-9]+@[a-z0-9]*.(org|com)$')\n",
    "for email in my_emails:\n",
    "    found = pat.match(email)\n",
    "    if found:\n",
    "        print(found.group())\n",
    "    else:\n",
    "        print('None')"
   ]
  },
  {
   "cell_type": "markdown",
   "metadata": {},
   "source": [
    "### Opening a File <br>\n",
    "<p>Python gives us a couple ways to import files, below are the two used most often.</p>"
   ]
  },
  {
   "cell_type": "markdown",
   "metadata": {},
   "source": [
    "##### open()"
   ]
  },
  {
   "cell_type": "code",
   "execution_count": 53,
   "metadata": {},
   "outputs": [
    {
     "name": "stdout",
     "output_type": "stream",
     "text": [
      "<_io.TextIOWrapper name='names.txt' mode='r' encoding='cp1252'>\n",
      "<class '_io.TextIOWrapper'>\n",
      "['Hawkins, Derek\\tderek@codingtemple.com\\t(555) 555-5555\\tTeacher, Coding Temple\\t@derekhawkins\\n', 'Zhai, Mo\\tmozhai@codingtemple.com\\t(555) 555-5554\\tTeacher, Coding Temple\\t\\n', 'Johnson, Joe\\tjoejohnson@codingtemple.com\\t\\tJohson, Joe\\t\\n', 'Osterberg, Sven-Erik\\tgovernor@norrbotten.co.se\\t\\tGovernor, Norrbotten\\t@sverik\\n', ', Tim\\ttim@killerrabbit.com\\t\\tEnchanter, Killer Rabbit Cave\\t\\n', 'Butz, Ryan\\tryanb@codingtemple.com\\t(555) 555-5543\\tCEO, Coding Temple\\t@ryanbutz\\n', 'Doctor, The\\tdoctor+companion@tardis.co.uk\\t\\tTime Lord, Gallifrey\\t\\n', 'Exampleson, Example\\tme@example.com\\t555-555-5552\\tExample, Example Co.\\t@example\\n', 'Pael, Ripal\\tripalp@codingtemple.com\\t(555) 555-5553\\tTeacher, Coding Temple\\t@ripalp\\n', 'Vader, Darth\\tdarth-vader@empire.gov\\t(555) 555-4444\\tSith Lord, Galactic Empire\\t@darthvader\\n', 'Fernandez de la Vega Sanz, Maria Teresa\\tmtfvs@spain.gov\\t\\tFirst Deputy Prime Minister, Spanish Gov\\t\\n']\n"
     ]
    }
   ],
   "source": [
    "f = open('names.txt')\n",
    "print(f)\n",
    "print(type(f))\n",
    "# data = f.read()\n",
    "lines = f.readlines()\n",
    "\n",
    "f.close()\n",
    "\n",
    "# print(data)\n",
    "print(lines)\n"
   ]
  },
  {
   "cell_type": "markdown",
   "metadata": {},
   "source": [
    "##### with open()"
   ]
  },
  {
   "cell_type": "code",
   "execution_count": 54,
   "metadata": {},
   "outputs": [
    {
     "name": "stdout",
     "output_type": "stream",
     "text": [
      "Hawkins, Derek\tderek@codingtemple.com\t(555) 555-5555\tTeacher, Coding Temple\t@derekhawkins\n",
      "Zhai, Mo\tmozhai@codingtemple.com\t(555) 555-5554\tTeacher, Coding Temple\t\n",
      "Johnson, Joe\tjoejohnson@codingtemple.com\t\tJohson, Joe\t\n",
      "Osterberg, Sven-Erik\tgovernor@norrbotten.co.se\t\tGovernor, Norrbotten\t@sverik\n",
      ", Tim\ttim@killerrabbit.com\t\tEnchanter, Killer Rabbit Cave\t\n",
      "Butz, Ryan\tryanb@codingtemple.com\t(555) 555-5543\tCEO, Coding Temple\t@ryanbutz\n",
      "Doctor, The\tdoctor+companion@tardis.co.uk\t\tTime Lord, Gallifrey\t\n",
      "Exampleson, Example\tme@example.com\t555-555-5552\tExample, Example Co.\t@example\n",
      "Pael, Ripal\tripalp@codingtemple.com\t(555) 555-5553\tTeacher, Coding Temple\t@ripalp\n",
      "Vader, Darth\tdarth-vader@empire.gov\t(555) 555-4444\tSith Lord, Galactic Empire\t@darthvader\n",
      "Fernandez de la Vega Sanz, Maria Teresa\tmtfvs@spain.gov\t\tFirst Deputy Prime Minister, Spanish Gov\t\n",
      "\n"
     ]
    }
   ],
   "source": [
    "with open('names.txt') as f:\n",
    "    data = f.read()\n",
    "    print(data)\n"
   ]
  },
  {
   "cell_type": "markdown",
   "metadata": {},
   "source": [
    "##### re.match()"
   ]
  },
  {
   "cell_type": "code",
   "execution_count": 55,
   "metadata": {},
   "outputs": [
    {
     "name": "stdout",
     "output_type": "stream",
     "text": [
      "<re.Match object; span=(0, 11), match='Hawkins, De'>\n"
     ]
    }
   ],
   "source": [
    "# pat = re.compile('stringgoeshere')\n",
    "# pat.match('string') # this is the way we have been doing things all day\n",
    "\n",
    "# re.match(PATTERN, STRING)\n",
    "\n",
    "print(re.match('[A-Z][a-z]+, [A-Z][a-z]', data))"
   ]
  },
  {
   "cell_type": "markdown",
   "metadata": {},
   "source": [
    "##### re.search()"
   ]
  },
  {
   "cell_type": "code",
   "execution_count": 62,
   "metadata": {},
   "outputs": [
    {
     "name": "stdout",
     "output_type": "stream",
     "text": [
      "<re.Match object; span=(20, 33), match='@codingtemple'>\n"
     ]
    }
   ],
   "source": [
    "print(re.search(r'\\b@[a-zA-Z0-9]+', data))"
   ]
  },
  {
   "cell_type": "markdown",
   "metadata": {},
   "source": [
    "##### Store the String to a Variable"
   ]
  },
  {
   "cell_type": "code",
   "execution_count": 63,
   "metadata": {},
   "outputs": [
    {
     "name": "stdout",
     "output_type": "stream",
     "text": [
      "What are you looking for?johnson\n",
      "<re.Match object; span=(178, 185), match='johnson'>\n"
     ]
    }
   ],
   "source": [
    "pattern = input('What are you looking for?')\n",
    "found = re.search(pattern, data)\n",
    "print(found)"
   ]
  },
  {
   "cell_type": "markdown",
   "metadata": {},
   "source": [
    "### In-Class Exercise #3 <br>\n",
    "<p>Print each persons name and twitter handle, using groups, should look like:</p>\n",
    "<p>==============<br>\n",
    "   Full Name / Twitter<br>\n",
    "   ==============</p>\n",
    "Derek Hawkins / @derekhawkins\n",
    "\n",
    " Erik Sven-Osterberg / @sverik\n",
    "\n",
    " Ryan Butz / @ryanbutz\n",
    "\n",
    " Example Exampleson / @example\n",
    "\n",
    " Ripal Pael / @ripalp\n",
    "\n",
    " Darth Vader / @darthvader"
   ]
  },
  {
   "cell_type": "code",
   "execution_count": 106,
   "metadata": {
    "scrolled": true
   },
   "outputs": [
    {
     "name": "stdout",
     "output_type": "stream",
     "text": [
      "Derek Hawkins / @derekhawkins\n",
      "\n",
      "Sven Osterberg / @sverik\n",
      "\n",
      "Ryan Butz / @ryanbutz\n",
      "\n",
      "Example Exampleson / @example\n",
      "\n",
      "Ripal Pael / @ripalp\n",
      "\n",
      "Darth Vader / @darthvader\n",
      "\n"
     ]
    }
   ],
   "source": [
    "import re\n",
    "\n",
    "with open('names.txt') as file:\n",
    "    data = file.readlines()\n",
    "    for line in data:\n",
    "        try:\n",
    "            twitter = (re.search(r'\\B@[a-zA-Z0-9]+', line)).group()\n",
    "            first = (re.search('\\s(?P<first>[A-Z][a-z]+)', line)).group('first')\n",
    "            last = (re.search('[A-Z][a-z]+', line)).group()\n",
    "            f_l_t = f'{first} {last} / {twitter}\\n'\n",
    "            print(f_l_t)\n",
    "        except:\n",
    "            continue"
   ]
  },
  {
   "cell_type": "markdown",
   "metadata": {},
   "source": [
    "### Regex project\n",
    "\n",
    "Use python to read the file regex_test.txt and print the last name on each line using regular expressions and groups (return None for names with no first and last name, or names that aren't properly capitalized)\n",
    "##### Hint: use with open() and readlines()"
   ]
  },
  {
   "cell_type": "code",
   "execution_count": 114,
   "metadata": {},
   "outputs": [
    {
     "name": "stdout",
     "output_type": "stream",
     "text": [
      "Abraham Lincoln\n",
      "Andrew P Garfield\n",
      "Connor Milliken\n",
      "Jordan Alexander Williams\n",
      "None\n",
      "None\n"
     ]
    }
   ],
   "source": [
    "\"\"\"\n",
    "Expected Output\n",
    "Abraham Lincoln\n",
    "Andrew P Garfield\n",
    "Connor Milliken\n",
    "Jordan Alexander Williams\n",
    "None\n",
    "None\n",
    "\"\"\"\n",
    "\n",
    "import re\n",
    "\n",
    "with open('regex_test.txt') as file:\n",
    "    data = file.readlines()\n",
    "    for line in data:\n",
    "        try:\n",
    "            names = (re.search('[A-Z][a-z]+( [A-Z][a-z]*)? [A-Z][a-z]+', line)).group()\n",
    "            print(names)\n",
    "        except:\n",
    "            print(None)"
   ]
  },
  {
   "cell_type": "code",
   "execution_count": null,
   "metadata": {},
   "outputs": [],
   "source": []
  }
 ],
 "metadata": {
  "kernelspec": {
   "display_name": "Python 3 (ipykernel)",
   "language": "python",
   "name": "python3"
  },
  "language_info": {
   "codemirror_mode": {
    "name": "ipython",
    "version": 3
   },
   "file_extension": ".py",
   "mimetype": "text/x-python",
   "name": "python",
   "nbconvert_exporter": "python",
   "pygments_lexer": "ipython3",
   "version": "3.9.12"
  }
 },
 "nbformat": 4,
 "nbformat_minor": 2
}
